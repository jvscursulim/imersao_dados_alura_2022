{
 "cells": [
  {
   "cell_type": "code",
   "execution_count": 1,
   "metadata": {},
   "outputs": [],
   "source": [
    "import pandas as pd"
   ]
  },
  {
   "cell_type": "code",
   "execution_count": 2,
   "metadata": {},
   "outputs": [],
   "source": [
    "database_url = \"https://gist.githubusercontent.com/tgcsantos/3bdb29eba6ce391e90df2b72205ba891/raw/22fa920e80c9fa209a9fccc8b52d74cc95d1599b/dados_imoveis.csv\"\n",
    "dados = pd.read_csv(database_url)"
   ]
  },
  {
   "cell_type": "markdown",
   "metadata": {},
   "source": [
    "Reproduzindo o código da aula"
   ]
  },
  {
   "cell_type": "code",
   "execution_count": 3,
   "metadata": {},
   "outputs": [
    {
     "data": {
      "text/html": [
       "<div>\n",
       "<style scoped>\n",
       "    .dataframe tbody tr th:only-of-type {\n",
       "        vertical-align: middle;\n",
       "    }\n",
       "\n",
       "    .dataframe tbody tr th {\n",
       "        vertical-align: top;\n",
       "    }\n",
       "\n",
       "    .dataframe thead th {\n",
       "        text-align: right;\n",
       "    }\n",
       "</style>\n",
       "<table border=\"1\" class=\"dataframe\">\n",
       "  <thead>\n",
       "    <tr style=\"text-align: right;\">\n",
       "      <th></th>\n",
       "      <th>Rua</th>\n",
       "      <th>Bairro</th>\n",
       "      <th>Cidade</th>\n",
       "      <th>Metragem</th>\n",
       "      <th>Quartos</th>\n",
       "      <th>Banheiros</th>\n",
       "      <th>Vagas</th>\n",
       "      <th>Valor</th>\n",
       "    </tr>\n",
       "  </thead>\n",
       "  <tbody>\n",
       "    <tr>\n",
       "      <th>0</th>\n",
       "      <td>Avenida Itacira, 255</td>\n",
       "      <td>Planalto Paulista</td>\n",
       "      <td>São Paulo</td>\n",
       "      <td>1000</td>\n",
       "      <td>4</td>\n",
       "      <td>8</td>\n",
       "      <td>6</td>\n",
       "      <td>R$ 7.000.000</td>\n",
       "    </tr>\n",
       "    <tr>\n",
       "      <th>1</th>\n",
       "      <td>Rua Aurelia Perez Alvarez, 42</td>\n",
       "      <td>Jardim dos Estados</td>\n",
       "      <td>São Paulo</td>\n",
       "      <td>496</td>\n",
       "      <td>4</td>\n",
       "      <td>4</td>\n",
       "      <td>4</td>\n",
       "      <td>R$ 3.700.000</td>\n",
       "    </tr>\n",
       "    <tr>\n",
       "      <th>2</th>\n",
       "      <td>Rua Alba Valdez</td>\n",
       "      <td>Jardim Reimberg</td>\n",
       "      <td>São Paulo</td>\n",
       "      <td>125</td>\n",
       "      <td>4</td>\n",
       "      <td>3</td>\n",
       "      <td>2</td>\n",
       "      <td>R$ 380.000</td>\n",
       "    </tr>\n",
       "    <tr>\n",
       "      <th>3</th>\n",
       "      <td>NaN</td>\n",
       "      <td>Jardim Morumbi</td>\n",
       "      <td>São Paulo</td>\n",
       "      <td>310</td>\n",
       "      <td>3</td>\n",
       "      <td>2</td>\n",
       "      <td>4</td>\n",
       "      <td>R$ 685.000</td>\n",
       "    </tr>\n",
       "    <tr>\n",
       "      <th>4</th>\n",
       "      <td>Rua Tobias Barreto, 195</td>\n",
       "      <td>Mooca</td>\n",
       "      <td>São Paulo</td>\n",
       "      <td>100</td>\n",
       "      <td>3</td>\n",
       "      <td>2</td>\n",
       "      <td>2</td>\n",
       "      <td>R$ 540.000</td>\n",
       "    </tr>\n",
       "  </tbody>\n",
       "</table>\n",
       "</div>"
      ],
      "text/plain": [
       "                              Rua              Bairro     Cidade  Metragem  \\\n",
       "0           Avenida Itacira, 255    Planalto Paulista  São Paulo      1000   \n",
       "1  Rua Aurelia Perez Alvarez, 42   Jardim dos Estados  São Paulo       496   \n",
       "2                 Rua Alba Valdez     Jardim Reimberg  São Paulo       125   \n",
       "3                             NaN      Jardim Morumbi  São Paulo       310   \n",
       "4        Rua Tobias Barreto, 195                Mooca  São Paulo       100   \n",
       "\n",
       "   Quartos  Banheiros  Vagas         Valor  \n",
       "0        4          8      6  R$ 7.000.000  \n",
       "1        4          4      4  R$ 3.700.000  \n",
       "2        4          3      2    R$ 380.000  \n",
       "3        3          2      4    R$ 685.000  \n",
       "4        3          2      2    R$ 540.000  "
      ]
     },
     "execution_count": 3,
     "metadata": {},
     "output_type": "execute_result"
    }
   ],
   "source": [
    "dados.head()"
   ]
  },
  {
   "cell_type": "code",
   "execution_count": 4,
   "metadata": {},
   "outputs": [
    {
     "data": {
      "text/html": [
       "<div>\n",
       "<style scoped>\n",
       "    .dataframe tbody tr th:only-of-type {\n",
       "        vertical-align: middle;\n",
       "    }\n",
       "\n",
       "    .dataframe tbody tr th {\n",
       "        vertical-align: top;\n",
       "    }\n",
       "\n",
       "    .dataframe thead th {\n",
       "        text-align: right;\n",
       "    }\n",
       "</style>\n",
       "<table border=\"1\" class=\"dataframe\">\n",
       "  <thead>\n",
       "    <tr style=\"text-align: right;\">\n",
       "      <th></th>\n",
       "      <th>Rua</th>\n",
       "      <th>Bairro</th>\n",
       "      <th>Cidade</th>\n",
       "      <th>Metragem</th>\n",
       "      <th>Quartos</th>\n",
       "      <th>Banheiros</th>\n",
       "      <th>Vagas</th>\n",
       "      <th>Valor</th>\n",
       "    </tr>\n",
       "  </thead>\n",
       "  <tbody>\n",
       "    <tr>\n",
       "      <th>0</th>\n",
       "      <td>Avenida Itacira, 255</td>\n",
       "      <td>Planalto Paulista</td>\n",
       "      <td>São Paulo</td>\n",
       "      <td>1000</td>\n",
       "      <td>4</td>\n",
       "      <td>8</td>\n",
       "      <td>6</td>\n",
       "      <td>R$ 7.000.000</td>\n",
       "    </tr>\n",
       "    <tr>\n",
       "      <th>1</th>\n",
       "      <td>Rua Aurelia Perez Alvarez, 42</td>\n",
       "      <td>Jardim dos Estados</td>\n",
       "      <td>São Paulo</td>\n",
       "      <td>496</td>\n",
       "      <td>4</td>\n",
       "      <td>4</td>\n",
       "      <td>4</td>\n",
       "      <td>R$ 3.700.000</td>\n",
       "    </tr>\n",
       "    <tr>\n",
       "      <th>2</th>\n",
       "      <td>Rua Alba Valdez</td>\n",
       "      <td>Jardim Reimberg</td>\n",
       "      <td>São Paulo</td>\n",
       "      <td>125</td>\n",
       "      <td>4</td>\n",
       "      <td>3</td>\n",
       "      <td>2</td>\n",
       "      <td>R$ 380.000</td>\n",
       "    </tr>\n",
       "    <tr>\n",
       "      <th>3</th>\n",
       "      <td>NaN</td>\n",
       "      <td>Jardim Morumbi</td>\n",
       "      <td>São Paulo</td>\n",
       "      <td>310</td>\n",
       "      <td>3</td>\n",
       "      <td>2</td>\n",
       "      <td>4</td>\n",
       "      <td>R$ 685.000</td>\n",
       "    </tr>\n",
       "    <tr>\n",
       "      <th>4</th>\n",
       "      <td>Rua Tobias Barreto, 195</td>\n",
       "      <td>Mooca</td>\n",
       "      <td>São Paulo</td>\n",
       "      <td>100</td>\n",
       "      <td>3</td>\n",
       "      <td>2</td>\n",
       "      <td>2</td>\n",
       "      <td>R$ 540.000</td>\n",
       "    </tr>\n",
       "    <tr>\n",
       "      <th>...</th>\n",
       "      <td>...</td>\n",
       "      <td>...</td>\n",
       "      <td>...</td>\n",
       "      <td>...</td>\n",
       "      <td>...</td>\n",
       "      <td>...</td>\n",
       "      <td>...</td>\n",
       "      <td>...</td>\n",
       "    </tr>\n",
       "    <tr>\n",
       "      <th>10003</th>\n",
       "      <td>Rua Tapuçu</td>\n",
       "      <td>Vila Sofia</td>\n",
       "      <td>São Paulo</td>\n",
       "      <td>95</td>\n",
       "      <td>2</td>\n",
       "      <td>2</td>\n",
       "      <td>2</td>\n",
       "      <td>R$ 665.000</td>\n",
       "    </tr>\n",
       "    <tr>\n",
       "      <th>10004</th>\n",
       "      <td>Rua Guararema</td>\n",
       "      <td>Bosque da Saúde</td>\n",
       "      <td>São Paulo</td>\n",
       "      <td>605</td>\n",
       "      <td>8</td>\n",
       "      <td>7</td>\n",
       "      <td>5</td>\n",
       "      <td>R$ 2.300.000</td>\n",
       "    </tr>\n",
       "    <tr>\n",
       "      <th>10005</th>\n",
       "      <td>Rua Estero Belaco</td>\n",
       "      <td>Vila da Saúde</td>\n",
       "      <td>São Paulo</td>\n",
       "      <td>205</td>\n",
       "      <td>3</td>\n",
       "      <td>3</td>\n",
       "      <td>6</td>\n",
       "      <td>R$ 1.050.000</td>\n",
       "    </tr>\n",
       "    <tr>\n",
       "      <th>10006</th>\n",
       "      <td>Rua Manuel Onha, , 514</td>\n",
       "      <td>Vila Oratório</td>\n",
       "      <td>São Paulo</td>\n",
       "      <td>185</td>\n",
       "      <td>3</td>\n",
       "      <td>2</td>\n",
       "      <td>2</td>\n",
       "      <td>R$ 2.200\\n                      /Mês</td>\n",
       "    </tr>\n",
       "    <tr>\n",
       "      <th>10007</th>\n",
       "      <td>Rua Barão de Tramandaí, 0</td>\n",
       "      <td>Vila Alpina</td>\n",
       "      <td>São Paulo</td>\n",
       "      <td>122</td>\n",
       "      <td>3</td>\n",
       "      <td>2</td>\n",
       "      <td>2</td>\n",
       "      <td>R$ 270.000</td>\n",
       "    </tr>\n",
       "  </tbody>\n",
       "</table>\n",
       "<p>10008 rows × 8 columns</p>\n",
       "</div>"
      ],
      "text/plain": [
       "                                  Rua              Bairro     Cidade  \\\n",
       "0               Avenida Itacira, 255    Planalto Paulista  São Paulo   \n",
       "1      Rua Aurelia Perez Alvarez, 42   Jardim dos Estados  São Paulo   \n",
       "2                     Rua Alba Valdez     Jardim Reimberg  São Paulo   \n",
       "3                                 NaN      Jardim Morumbi  São Paulo   \n",
       "4            Rua Tobias Barreto, 195                Mooca  São Paulo   \n",
       "...                               ...                 ...        ...   \n",
       "10003                      Rua Tapuçu          Vila Sofia  São Paulo   \n",
       "10004                   Rua Guararema     Bosque da Saúde  São Paulo   \n",
       "10005               Rua Estero Belaco       Vila da Saúde  São Paulo   \n",
       "10006         Rua Manuel Onha, , 514        Vila Oratório  São Paulo   \n",
       "10007      Rua Barão de Tramandaí, 0          Vila Alpina  São Paulo   \n",
       "\n",
       "       Metragem  Quartos  Banheiros  Vagas  \\\n",
       "0          1000        4          8      6   \n",
       "1           496        4          4      4   \n",
       "2           125        4          3      2   \n",
       "3           310        3          2      4   \n",
       "4           100        3          2      2   \n",
       "...         ...      ...        ...    ...   \n",
       "10003        95        2          2      2   \n",
       "10004       605        8          7      5   \n",
       "10005       205        3          3      6   \n",
       "10006       185        3          2      2   \n",
       "10007       122        3          2      2   \n",
       "\n",
       "                                      Valor  \n",
       "0                              R$ 7.000.000  \n",
       "1                              R$ 3.700.000  \n",
       "2                                R$ 380.000  \n",
       "3                                R$ 685.000  \n",
       "4                                R$ 540.000  \n",
       "...                                     ...  \n",
       "10003                            R$ 665.000  \n",
       "10004                          R$ 2.300.000  \n",
       "10005                          R$ 1.050.000  \n",
       "10006  R$ 2.200\\n                      /Mês  \n",
       "10007                            R$ 270.000  \n",
       "\n",
       "[10008 rows x 8 columns]"
      ]
     },
     "execution_count": 4,
     "metadata": {},
     "output_type": "execute_result"
    }
   ],
   "source": [
    "dados"
   ]
  },
  {
   "cell_type": "code",
   "execution_count": 5,
   "metadata": {},
   "outputs": [
    {
     "data": {
      "text/html": [
       "<div>\n",
       "<style scoped>\n",
       "    .dataframe tbody tr th:only-of-type {\n",
       "        vertical-align: middle;\n",
       "    }\n",
       "\n",
       "    .dataframe tbody tr th {\n",
       "        vertical-align: top;\n",
       "    }\n",
       "\n",
       "    .dataframe thead th {\n",
       "        text-align: right;\n",
       "    }\n",
       "</style>\n",
       "<table border=\"1\" class=\"dataframe\">\n",
       "  <thead>\n",
       "    <tr style=\"text-align: right;\">\n",
       "      <th></th>\n",
       "      <th>Rua</th>\n",
       "      <th>Bairro</th>\n",
       "      <th>Cidade</th>\n",
       "      <th>Metragem</th>\n",
       "      <th>Quartos</th>\n",
       "      <th>Banheiros</th>\n",
       "      <th>Vagas</th>\n",
       "      <th>Valor</th>\n",
       "    </tr>\n",
       "  </thead>\n",
       "  <tbody>\n",
       "    <tr>\n",
       "      <th>3422</th>\n",
       "      <td>NaN</td>\n",
       "      <td>Jardim Paulista</td>\n",
       "      <td>São Paulo</td>\n",
       "      <td>390</td>\n",
       "      <td>4</td>\n",
       "      <td>4</td>\n",
       "      <td>4</td>\n",
       "      <td>R$ 5.500.000</td>\n",
       "    </tr>\n",
       "    <tr>\n",
       "      <th>6343</th>\n",
       "      <td>NaN</td>\n",
       "      <td>Sumaré</td>\n",
       "      <td>São Paulo</td>\n",
       "      <td>190</td>\n",
       "      <td>3</td>\n",
       "      <td>4</td>\n",
       "      <td>2</td>\n",
       "      <td>R$ 2.000.000</td>\n",
       "    </tr>\n",
       "    <tr>\n",
       "      <th>3174</th>\n",
       "      <td>Rua Alvorada do Sul</td>\n",
       "      <td>Jardim Guedala</td>\n",
       "      <td>São Paulo</td>\n",
       "      <td>496</td>\n",
       "      <td>4</td>\n",
       "      <td>4</td>\n",
       "      <td>3</td>\n",
       "      <td>R$ 14.000\\n                      /Mês</td>\n",
       "    </tr>\n",
       "    <tr>\n",
       "      <th>9758</th>\n",
       "      <td>Avenida Doutor Cardoso de Melo</td>\n",
       "      <td>Vila Olímpia</td>\n",
       "      <td>São Paulo</td>\n",
       "      <td>200</td>\n",
       "      <td>3</td>\n",
       "      <td>3</td>\n",
       "      <td>2</td>\n",
       "      <td>R$ 2.900.000</td>\n",
       "    </tr>\n",
       "    <tr>\n",
       "      <th>8737</th>\n",
       "      <td>Avenida Manoel dos Reis Araújo</td>\n",
       "      <td>Jardim Marajoara</td>\n",
       "      <td>São Paulo</td>\n",
       "      <td>462</td>\n",
       "      <td>4</td>\n",
       "      <td>6</td>\n",
       "      <td>4</td>\n",
       "      <td>R$ 2.500.000</td>\n",
       "    </tr>\n",
       "    <tr>\n",
       "      <th>148</th>\n",
       "      <td>Rua João Pereira Santos, 144</td>\n",
       "      <td>Jardim Nova Germania</td>\n",
       "      <td>São Paulo</td>\n",
       "      <td>57</td>\n",
       "      <td>3</td>\n",
       "      <td>1</td>\n",
       "      <td>5</td>\n",
       "      <td>R$ 350.000</td>\n",
       "    </tr>\n",
       "    <tr>\n",
       "      <th>4794</th>\n",
       "      <td>NaN</td>\n",
       "      <td>Sumaré</td>\n",
       "      <td>São Paulo</td>\n",
       "      <td>500</td>\n",
       "      <td>4</td>\n",
       "      <td>2</td>\n",
       "      <td>3</td>\n",
       "      <td>R$ 4.950.000</td>\n",
       "    </tr>\n",
       "    <tr>\n",
       "      <th>267</th>\n",
       "      <td>NaN</td>\n",
       "      <td>Pacaembu</td>\n",
       "      <td>São Paulo</td>\n",
       "      <td>306</td>\n",
       "      <td>4</td>\n",
       "      <td>3</td>\n",
       "      <td>2</td>\n",
       "      <td>R$ 2.000.000</td>\n",
       "    </tr>\n",
       "    <tr>\n",
       "      <th>5368</th>\n",
       "      <td>NaN</td>\n",
       "      <td>Alto de Pinheiros</td>\n",
       "      <td>São Paulo</td>\n",
       "      <td>453</td>\n",
       "      <td>3</td>\n",
       "      <td>4</td>\n",
       "      <td>4</td>\n",
       "      <td>R$ 4.800.000</td>\n",
       "    </tr>\n",
       "    <tr>\n",
       "      <th>5323</th>\n",
       "      <td>Rua José Guilherme Guimarães Pedroso, 0</td>\n",
       "      <td>Vila Campo Grande</td>\n",
       "      <td>São Paulo</td>\n",
       "      <td>225</td>\n",
       "      <td>3</td>\n",
       "      <td>4</td>\n",
       "      <td>8</td>\n",
       "      <td>R$ 590.000</td>\n",
       "    </tr>\n",
       "  </tbody>\n",
       "</table>\n",
       "</div>"
      ],
      "text/plain": [
       "                                           Rua                Bairro  \\\n",
       "3422                                       NaN       Jardim Paulista   \n",
       "6343                                       NaN                Sumaré   \n",
       "3174                       Rua Alvorada do Sul        Jardim Guedala   \n",
       "9758            Avenida Doutor Cardoso de Melo          Vila Olímpia   \n",
       "8737            Avenida Manoel dos Reis Araújo      Jardim Marajoara   \n",
       "148              Rua João Pereira Santos, 144   Jardim Nova Germania   \n",
       "4794                                       NaN                Sumaré   \n",
       "267                                        NaN              Pacaembu   \n",
       "5368                                       NaN     Alto de Pinheiros   \n",
       "5323  Rua José Guilherme Guimarães Pedroso, 0      Vila Campo Grande   \n",
       "\n",
       "         Cidade  Metragem  Quartos  Banheiros  Vagas  \\\n",
       "3422  São Paulo       390        4          4      4   \n",
       "6343  São Paulo       190        3          4      2   \n",
       "3174  São Paulo       496        4          4      3   \n",
       "9758  São Paulo       200        3          3      2   \n",
       "8737  São Paulo       462        4          6      4   \n",
       "148   São Paulo        57        3          1      5   \n",
       "4794  São Paulo       500        4          2      3   \n",
       "267   São Paulo       306        4          3      2   \n",
       "5368  São Paulo       453        3          4      4   \n",
       "5323  São Paulo       225        3          4      8   \n",
       "\n",
       "                                      Valor  \n",
       "3422                           R$ 5.500.000  \n",
       "6343                           R$ 2.000.000  \n",
       "3174  R$ 14.000\\n                      /Mês  \n",
       "9758                           R$ 2.900.000  \n",
       "8737                           R$ 2.500.000  \n",
       "148                              R$ 350.000  \n",
       "4794                           R$ 4.950.000  \n",
       "267                            R$ 2.000.000  \n",
       "5368                           R$ 4.800.000  \n",
       "5323                             R$ 590.000  "
      ]
     },
     "execution_count": 5,
     "metadata": {},
     "output_type": "execute_result"
    }
   ],
   "source": [
    "dados.sample(10)"
   ]
  },
  {
   "cell_type": "code",
   "execution_count": 6,
   "metadata": {},
   "outputs": [
    {
     "name": "stdout",
     "output_type": "stream",
     "text": [
      "<class 'pandas.core.frame.DataFrame'>\n",
      "RangeIndex: 10008 entries, 0 to 10007\n",
      "Data columns (total 8 columns):\n",
      " #   Column     Non-Null Count  Dtype \n",
      "---  ------     --------------  ----- \n",
      " 0   Rua        6574 non-null   object\n",
      " 1   Bairro     9996 non-null   object\n",
      " 2   Cidade     10008 non-null  object\n",
      " 3   Metragem   10008 non-null  int64 \n",
      " 4   Quartos    10008 non-null  int64 \n",
      " 5   Banheiros  10008 non-null  int64 \n",
      " 6   Vagas      10008 non-null  int64 \n",
      " 7   Valor      10008 non-null  object\n",
      "dtypes: int64(4), object(4)\n",
      "memory usage: 625.6+ KB\n"
     ]
    }
   ],
   "source": [
    "dados.info()"
   ]
  },
  {
   "cell_type": "code",
   "execution_count": 8,
   "metadata": {},
   "outputs": [
    {
     "data": {
      "text/plain": [
       "'Vila Paulo Silas'"
      ]
     },
     "execution_count": 8,
     "metadata": {},
     "output_type": "execute_result"
    }
   ],
   "source": [
    "dados[\"Bairro\"][6522]"
   ]
  },
  {
   "cell_type": "code",
   "execution_count": 9,
   "metadata": {},
   "outputs": [
    {
     "data": {
      "text/plain": [
       "442.30065947242207"
      ]
     },
     "execution_count": 9,
     "metadata": {},
     "output_type": "execute_result"
    }
   ],
   "source": [
    "dados.Metragem.mean()"
   ]
  },
  {
   "cell_type": "code",
   "execution_count": 10,
   "metadata": {},
   "outputs": [
    {
     "data": {
      "text/plain": [
       "442.30065947242207"
      ]
     },
     "execution_count": 10,
     "metadata": {},
     "output_type": "execute_result"
    }
   ],
   "source": [
    "dados[\"Metragem\"].mean()"
   ]
  },
  {
   "cell_type": "code",
   "execution_count": 11,
   "metadata": {},
   "outputs": [
    {
     "name": "stdout",
     "output_type": "stream",
     "text": [
      "184\n"
     ]
    }
   ],
   "source": [
    "quantidade_imoveis_vm = sum(dados[\"Bairro\"] == \"Vila Mariana\")\n",
    "print(quantidade_imoveis_vm)"
   ]
  },
  {
   "cell_type": "code",
   "execution_count": 12,
   "metadata": {},
   "outputs": [
    {
     "data": {
      "text/plain": [
       "0        False\n",
       "1        False\n",
       "2        False\n",
       "3        False\n",
       "4        False\n",
       "         ...  \n",
       "10003    False\n",
       "10004    False\n",
       "10005    False\n",
       "10006    False\n",
       "10007    False\n",
       "Name: Bairro, Length: 10008, dtype: bool"
      ]
     },
     "execution_count": 12,
     "metadata": {},
     "output_type": "execute_result"
    }
   ],
   "source": [
    "filtro_imoveis_vila_mariana = (dados[\"Bairro\"] == \"Vila Mariana\")\n",
    "filtro_imoveis_vila_mariana"
   ]
  },
  {
   "cell_type": "code",
   "execution_count": 13,
   "metadata": {},
   "outputs": [
    {
     "data": {
      "text/html": [
       "<div>\n",
       "<style scoped>\n",
       "    .dataframe tbody tr th:only-of-type {\n",
       "        vertical-align: middle;\n",
       "    }\n",
       "\n",
       "    .dataframe tbody tr th {\n",
       "        vertical-align: top;\n",
       "    }\n",
       "\n",
       "    .dataframe thead th {\n",
       "        text-align: right;\n",
       "    }\n",
       "</style>\n",
       "<table border=\"1\" class=\"dataframe\">\n",
       "  <thead>\n",
       "    <tr style=\"text-align: right;\">\n",
       "      <th></th>\n",
       "      <th>Rua</th>\n",
       "      <th>Bairro</th>\n",
       "      <th>Cidade</th>\n",
       "      <th>Metragem</th>\n",
       "      <th>Quartos</th>\n",
       "      <th>Banheiros</th>\n",
       "      <th>Vagas</th>\n",
       "      <th>Valor</th>\n",
       "    </tr>\n",
       "  </thead>\n",
       "  <tbody>\n",
       "    <tr>\n",
       "      <th>100</th>\n",
       "      <td>Rua Pero Correia</td>\n",
       "      <td>Vila Mariana</td>\n",
       "      <td>São Paulo</td>\n",
       "      <td>250</td>\n",
       "      <td>3</td>\n",
       "      <td>3</td>\n",
       "      <td>1</td>\n",
       "      <td>R$ 1.350.000</td>\n",
       "    </tr>\n",
       "    <tr>\n",
       "      <th>120</th>\n",
       "      <td>Praça Doutor Carvalho Franco</td>\n",
       "      <td>Vila Mariana</td>\n",
       "      <td>São Paulo</td>\n",
       "      <td>250</td>\n",
       "      <td>3</td>\n",
       "      <td>5</td>\n",
       "      <td>2</td>\n",
       "      <td>R$ 2.450.000</td>\n",
       "    </tr>\n",
       "    <tr>\n",
       "      <th>155</th>\n",
       "      <td>Rua Professor João Marinho</td>\n",
       "      <td>Vila Mariana</td>\n",
       "      <td>São Paulo</td>\n",
       "      <td>170</td>\n",
       "      <td>3</td>\n",
       "      <td>4</td>\n",
       "      <td>2</td>\n",
       "      <td>R$ 1.490.000</td>\n",
       "    </tr>\n",
       "    <tr>\n",
       "      <th>160</th>\n",
       "      <td>NaN</td>\n",
       "      <td>Vila Mariana</td>\n",
       "      <td>São Paulo</td>\n",
       "      <td>228</td>\n",
       "      <td>4</td>\n",
       "      <td>5</td>\n",
       "      <td>3</td>\n",
       "      <td>R$ 2.200.000</td>\n",
       "    </tr>\n",
       "    <tr>\n",
       "      <th>334</th>\n",
       "      <td>Rua Pero Correia, 892</td>\n",
       "      <td>Vila Mariana</td>\n",
       "      <td>São Paulo</td>\n",
       "      <td>350</td>\n",
       "      <td>6</td>\n",
       "      <td>4</td>\n",
       "      <td>10</td>\n",
       "      <td>R$ 1.700.000</td>\n",
       "    </tr>\n",
       "    <tr>\n",
       "      <th>...</th>\n",
       "      <td>...</td>\n",
       "      <td>...</td>\n",
       "      <td>...</td>\n",
       "      <td>...</td>\n",
       "      <td>...</td>\n",
       "      <td>...</td>\n",
       "      <td>...</td>\n",
       "      <td>...</td>\n",
       "    </tr>\n",
       "    <tr>\n",
       "      <th>9645</th>\n",
       "      <td>Rua Sousa Ramos</td>\n",
       "      <td>Vila Mariana</td>\n",
       "      <td>São Paulo</td>\n",
       "      <td>285</td>\n",
       "      <td>3</td>\n",
       "      <td>5</td>\n",
       "      <td>5</td>\n",
       "      <td>R$ 1.650.000</td>\n",
       "    </tr>\n",
       "    <tr>\n",
       "      <th>9701</th>\n",
       "      <td>Rua Benito Juarez</td>\n",
       "      <td>Vila Mariana</td>\n",
       "      <td>São Paulo</td>\n",
       "      <td>171</td>\n",
       "      <td>3</td>\n",
       "      <td>2</td>\n",
       "      <td>4</td>\n",
       "      <td>R$ 1.650.000</td>\n",
       "    </tr>\n",
       "    <tr>\n",
       "      <th>9737</th>\n",
       "      <td>Rua Benito Juarez</td>\n",
       "      <td>Vila Mariana</td>\n",
       "      <td>São Paulo</td>\n",
       "      <td>171</td>\n",
       "      <td>3</td>\n",
       "      <td>2</td>\n",
       "      <td>4</td>\n",
       "      <td>R$ 1.650.000</td>\n",
       "    </tr>\n",
       "    <tr>\n",
       "      <th>9807</th>\n",
       "      <td>NaN</td>\n",
       "      <td>Vila Mariana</td>\n",
       "      <td>São Paulo</td>\n",
       "      <td>275</td>\n",
       "      <td>3</td>\n",
       "      <td>1</td>\n",
       "      <td>6</td>\n",
       "      <td>R$ 1.500.000</td>\n",
       "    </tr>\n",
       "    <tr>\n",
       "      <th>9852</th>\n",
       "      <td>Rua França Pinto</td>\n",
       "      <td>Vila Mariana</td>\n",
       "      <td>São Paulo</td>\n",
       "      <td>280</td>\n",
       "      <td>3</td>\n",
       "      <td>3</td>\n",
       "      <td>4</td>\n",
       "      <td>R$ 1.600.000</td>\n",
       "    </tr>\n",
       "  </tbody>\n",
       "</table>\n",
       "<p>184 rows × 8 columns</p>\n",
       "</div>"
      ],
      "text/plain": [
       "                               Rua        Bairro     Cidade  Metragem  \\\n",
       "100               Rua Pero Correia  Vila Mariana  São Paulo       250   \n",
       "120   Praça Doutor Carvalho Franco  Vila Mariana  São Paulo       250   \n",
       "155     Rua Professor João Marinho  Vila Mariana  São Paulo       170   \n",
       "160                            NaN  Vila Mariana  São Paulo       228   \n",
       "334         Rua Pero Correia, 892   Vila Mariana  São Paulo       350   \n",
       "...                            ...           ...        ...       ...   \n",
       "9645               Rua Sousa Ramos  Vila Mariana  São Paulo       285   \n",
       "9701             Rua Benito Juarez  Vila Mariana  São Paulo       171   \n",
       "9737             Rua Benito Juarez  Vila Mariana  São Paulo       171   \n",
       "9807                           NaN  Vila Mariana  São Paulo       275   \n",
       "9852              Rua França Pinto  Vila Mariana  São Paulo       280   \n",
       "\n",
       "      Quartos  Banheiros  Vagas         Valor  \n",
       "100         3          3      1  R$ 1.350.000  \n",
       "120         3          5      2  R$ 2.450.000  \n",
       "155         3          4      2  R$ 1.490.000  \n",
       "160         4          5      3  R$ 2.200.000  \n",
       "334         6          4     10  R$ 1.700.000  \n",
       "...       ...        ...    ...           ...  \n",
       "9645        3          5      5  R$ 1.650.000  \n",
       "9701        3          2      4  R$ 1.650.000  \n",
       "9737        3          2      4  R$ 1.650.000  \n",
       "9807        3          1      6  R$ 1.500.000  \n",
       "9852        3          3      4  R$ 1.600.000  \n",
       "\n",
       "[184 rows x 8 columns]"
      ]
     },
     "execution_count": 13,
     "metadata": {},
     "output_type": "execute_result"
    }
   ],
   "source": [
    "imoveis_vila_mariana = dados[filtro_imoveis_vila_mariana]\n",
    "imoveis_vila_mariana"
   ]
  },
  {
   "cell_type": "code",
   "execution_count": 14,
   "metadata": {},
   "outputs": [
    {
     "data": {
      "text/plain": [
       "233.6195652173913"
      ]
     },
     "execution_count": 14,
     "metadata": {},
     "output_type": "execute_result"
    }
   ],
   "source": [
    "imoveis_vila_mariana[\"Metragem\"].mean()"
   ]
  },
  {
   "cell_type": "code",
   "execution_count": 15,
   "metadata": {},
   "outputs": [
    {
     "data": {
      "text/plain": [
       "Alto de Pinheiros     409\n",
       "Jardim Guedala        403\n",
       "Jardim Paulista       309\n",
       "Brooklin Paulista     247\n",
       "Jardim Europa         240\n",
       "                     ... \n",
       "Jardim das Imbuias      1\n",
       "Vila Represa            1\n",
       "Vila Nancy              1\n",
       "Sítio Represa           1\n",
       "Vila Invernada          1\n",
       "Name: Bairro, Length: 701, dtype: int64"
      ]
     },
     "execution_count": 15,
     "metadata": {},
     "output_type": "execute_result"
    }
   ],
   "source": [
    "dados[\"Bairro\"].value_counts()"
   ]
  },
  {
   "cell_type": "code",
   "execution_count": 17,
   "metadata": {},
   "outputs": [
    {
     "data": {
      "text/plain": [
       "<AxesSubplot:>"
      ]
     },
     "execution_count": 17,
     "metadata": {},
     "output_type": "execute_result"
    },
    {
     "data": {
      "image/png": "[encoded data removed]",
      "text/plain": [
       "<Figure size 432x288 with 1 Axes>"
      ]
     },
     "metadata": {
      "needs_background": "light"
     },
     "output_type": "display_data"
    }
   ],
   "source": [
    "n_imoveis_bairro = dados[\"Bairro\"].value_counts()\n",
    "n_imoveis_bairro.head(10).plot(kind = \"bar\")"
   ]
  },
  {
   "cell_type": "markdown",
   "metadata": {},
   "source": [
    "# Desafios\n",
    "\n",
    "1 - Calcular a média da metragem para cada um dos bairros (Paulo)\n",
    "\n",
    "2 - Selecionar os dados por bairro de duas maneiras diferentes (Thiago)\n",
    "\n",
    "3 - Explorar alguns gráficos na documentação nas demais colunas do DataFrame e tentar chegar a alguma conclusão (Thiago)\n",
    "\n",
    "4 - Pegar outras estatísticas dos dados: média, mediana, mínimo, máximo (Vivi)\n",
    "\n",
    "5 - Descobrir quais são os bairros que não tem nome na coluna Rua. (Vivi)"
   ]
  },
  {
   "cell_type": "markdown",
   "metadata": {},
   "source": [
    "## Soluções dos desafios"
   ]
  },
  {
   "cell_type": "markdown",
   "metadata": {},
   "source": [
    "### Desafio 1"
   ]
  },
  {
   "cell_type": "code",
   "execution_count": 27,
   "metadata": {},
   "outputs": [
    {
     "data": {
      "text/html": [
       "<div>\n",
       "<style scoped>\n",
       "    .dataframe tbody tr th:only-of-type {\n",
       "        vertical-align: middle;\n",
       "    }\n",
       "\n",
       "    .dataframe tbody tr th {\n",
       "        vertical-align: top;\n",
       "    }\n",
       "\n",
       "    .dataframe thead th {\n",
       "        text-align: right;\n",
       "    }\n",
       "</style>\n",
       "<table border=\"1\" class=\"dataframe\">\n",
       "  <thead>\n",
       "    <tr style=\"text-align: right;\">\n",
       "      <th></th>\n",
       "      <th>Bairro</th>\n",
       "      <th>Metragem média</th>\n",
       "    </tr>\n",
       "  </thead>\n",
       "  <tbody>\n",
       "    <tr>\n",
       "      <th>0</th>\n",
       "      <td>NaN</td>\n",
       "      <td>NaN</td>\n",
       "    </tr>\n",
       "    <tr>\n",
       "      <th>1</th>\n",
       "      <td>Vila Leopoldina</td>\n",
       "      <td>249.718750</td>\n",
       "    </tr>\n",
       "    <tr>\n",
       "      <th>2</th>\n",
       "      <td>Jardim Ester Yolanda</td>\n",
       "      <td>93.333333</td>\n",
       "    </tr>\n",
       "    <tr>\n",
       "      <th>3</th>\n",
       "      <td>Vila Polopoli</td>\n",
       "      <td>111.666667</td>\n",
       "    </tr>\n",
       "    <tr>\n",
       "      <th>4</th>\n",
       "      <td>Casa Verde Alta</td>\n",
       "      <td>184.333333</td>\n",
       "    </tr>\n",
       "    <tr>\n",
       "      <th>...</th>\n",
       "      <td>...</td>\n",
       "      <td>...</td>\n",
       "    </tr>\n",
       "    <tr>\n",
       "      <th>697</th>\n",
       "      <td>Higienópolis</td>\n",
       "      <td>390.333333</td>\n",
       "    </tr>\n",
       "    <tr>\n",
       "      <th>698</th>\n",
       "      <td>Jardim Paraíso</td>\n",
       "      <td>132.000000</td>\n",
       "    </tr>\n",
       "    <tr>\n",
       "      <th>699</th>\n",
       "      <td>Vila Maria Baixa</td>\n",
       "      <td>103.333333</td>\n",
       "    </tr>\n",
       "    <tr>\n",
       "      <th>700</th>\n",
       "      <td>Vila Canero</td>\n",
       "      <td>143.750000</td>\n",
       "    </tr>\n",
       "    <tr>\n",
       "      <th>701</th>\n",
       "      <td>Jardim Benfica</td>\n",
       "      <td>48.000000</td>\n",
       "    </tr>\n",
       "  </tbody>\n",
       "</table>\n",
       "<p>702 rows × 2 columns</p>\n",
       "</div>"
      ],
      "text/plain": [
       "                   Bairro  Metragem média\n",
       "0                     NaN             NaN\n",
       "1         Vila Leopoldina      249.718750\n",
       "2    Jardim Ester Yolanda       93.333333\n",
       "3           Vila Polopoli      111.666667\n",
       "4         Casa Verde Alta      184.333333\n",
       "..                    ...             ...\n",
       "697          Higienópolis      390.333333\n",
       "698        Jardim Paraíso      132.000000\n",
       "699      Vila Maria Baixa      103.333333\n",
       "700           Vila Canero      143.750000\n",
       "701        Jardim Benfica       48.000000\n",
       "\n",
       "[702 rows x 2 columns]"
      ]
     },
     "execution_count": 27,
     "metadata": {},
     "output_type": "execute_result"
    }
   ],
   "source": [
    "bairros = set(dados[\"Bairro\"])\n",
    "columns = [\"Bairro\", \"Metragem média\"]\n",
    "data = []\n",
    "\n",
    "for bairro in bairros:\n",
    "    \n",
    "    data_bairro = dados[dados[\"Bairro\"] == bairro]\n",
    "    metragem_media_bairro = data_bairro[\"Metragem\"].mean()\n",
    "    data.append([bairro, metragem_media_bairro])\n",
    "    \n",
    "df_metragem_media_bairros = pd.DataFrame(data = data, columns = columns)\n",
    "df_metragem_media_bairros"
   ]
  },
  {
   "cell_type": "markdown",
   "metadata": {},
   "source": [
    "### Desafio 2"
   ]
  },
  {
   "cell_type": "code",
   "execution_count": 66,
   "metadata": {},
   "outputs": [
    {
     "data": {
      "text/plain": [
       "100     250\n",
       "120     250\n",
       "155     170\n",
       "160     228\n",
       "334     350\n",
       "       ... \n",
       "9645    285\n",
       "9701    171\n",
       "9737    171\n",
       "9807    275\n",
       "9852    280\n",
       "Name: Metragem, Length: 184, dtype: int64"
      ]
     },
     "execution_count": 66,
     "metadata": {},
     "output_type": "execute_result"
    }
   ],
   "source": [
    "metragens_v1 = dados.loc[dados[\"Bairro\"] == \"Vila Mariana\", \"Metragem\"]\n",
    "metragens_v1"
   ]
  },
  {
   "cell_type": "code",
   "execution_count": 69,
   "metadata": {},
   "outputs": [
    {
     "data": {
      "text/plain": [
       "100     250\n",
       "120     250\n",
       "155     170\n",
       "160     228\n",
       "334     350\n",
       "       ... \n",
       "9645    285\n",
       "9701    171\n",
       "9737    171\n",
       "9807    275\n",
       "9852    280\n",
       "Name: Metragem, Length: 184, dtype: int64"
      ]
     },
     "execution_count": 69,
     "metadata": {},
     "output_type": "execute_result"
    }
   ],
   "source": [
    "metragens_v2 = dados[dados.Bairro == \"Vila Mariana\"].Metragem\n",
    "metragens_v2"
   ]
  },
  {
   "cell_type": "markdown",
   "metadata": {},
   "source": [
    "### Desafio 3"
   ]
  },
  {
   "cell_type": "code",
   "execution_count": 63,
   "metadata": {},
   "outputs": [
    {
     "data": {
      "text/plain": [
       "<AxesSubplot:xlabel='Quartos', ylabel='Metragem'>"
      ]
     },
     "execution_count": 63,
     "metadata": {},
     "output_type": "execute_result"
    },
    {
     "data": {
      "image/png": "[encoded data removed]",
      "text/plain": [
       "<Figure size 432x288 with 1 Axes>"
      ]
     },
     "metadata": {
      "needs_background": "light"
     },
     "output_type": "display_data"
    }
   ],
   "source": [
    "imoveis_vila_mariana.plot(kind = \"scatter\", x = \"Quartos\", y = \"Metragem\")"
   ]
  },
  {
   "cell_type": "code",
   "execution_count": 58,
   "metadata": {},
   "outputs": [
    {
     "data": {
      "text/plain": [
       "<AxesSubplot:xlabel='Quartos', ylabel='Banheiros'>"
      ]
     },
     "execution_count": 58,
     "metadata": {},
     "output_type": "execute_result"
    },
    {
     "data": {
      "image/png": "[encoded data removed]",
      "text/plain": [
       "<Figure size 432x288 with 1 Axes>"
      ]
     },
     "metadata": {
      "needs_background": "light"
     },
     "output_type": "display_data"
    }
   ],
   "source": [
    "dados.plot(kind = \"scatter\", x = \"Quartos\", y = \"Banheiros\")"
   ]
  },
  {
   "cell_type": "code",
   "execution_count": 61,
   "metadata": {},
   "outputs": [
    {
     "data": {
      "text/plain": [
       "<AxesSubplot:xlabel='Quartos', ylabel='Vagas'>"
      ]
     },
     "execution_count": 61,
     "metadata": {},
     "output_type": "execute_result"
    },
    {
     "data": {
      "image/png": "[encoded data removed]",
      "text/plain": [
       "<Figure size 432x288 with 1 Axes>"
      ]
     },
     "metadata": {
      "needs_background": "light"
     },
     "output_type": "display_data"
    }
   ],
   "source": [
    "dados.plot(kind = \"scatter\", x = \"Quartos\", y = \"Vagas\")"
   ]
  },
  {
   "cell_type": "code",
   "execution_count": 49,
   "metadata": {},
   "outputs": [
    {
     "data": {
      "text/plain": [
       "<AxesSubplot:ylabel='Frequency'>"
      ]
     },
     "execution_count": 49,
     "metadata": {},
     "output_type": "execute_result"
    },
    {
     "data": {
      "image/png": "[encoded data removed]",
      "text/plain": [
       "<Figure size 432x288 with 1 Axes>"
      ]
     },
     "metadata": {
      "needs_background": "light"
     },
     "output_type": "display_data"
    }
   ],
   "source": [
    "dados.plot(kind = \"hist\", y = \"Quartos\", bins = 15)"
   ]
  },
  {
   "cell_type": "code",
   "execution_count": 47,
   "metadata": {},
   "outputs": [
    {
     "data": {
      "text/plain": [
       "<AxesSubplot:ylabel='Frequency'>"
      ]
     },
     "execution_count": 47,
     "metadata": {},
     "output_type": "execute_result"
    },
    {
     "data": {
      "image/png": "[encoded data removed]",
      "text/plain": [
       "<Figure size 432x288 with 1 Axes>"
      ]
     },
     "metadata": {
      "needs_background": "light"
     },
     "output_type": "display_data"
    }
   ],
   "source": [
    "dados.plot(kind = \"hist\", y = \"Banheiros\", bins = 40)"
   ]
  },
  {
   "cell_type": "code",
   "execution_count": 53,
   "metadata": {},
   "outputs": [
    {
     "data": {
      "text/plain": [
       "<AxesSubplot:ylabel='Frequency'>"
      ]
     },
     "execution_count": 53,
     "metadata": {},
     "output_type": "execute_result"
    },
    {
     "data": {
      "image/png": "[encoded data removed]",
      "text/plain": [
       "<Figure size 432x288 with 1 Axes>"
      ]
     },
     "metadata": {
      "needs_background": "light"
     },
     "output_type": "display_data"
    }
   ],
   "source": [
    "dados.plot(kind = \"hist\", y = \"Vagas\", bins = 50)"
   ]
  },
  {
   "cell_type": "markdown",
   "metadata": {},
   "source": [
    "### Desafio 4"
   ]
  },
  {
   "cell_type": "code",
   "execution_count": 28,
   "metadata": {},
   "outputs": [
    {
     "name": "stdout",
     "output_type": "stream",
     "text": [
      "Metragem mínima no bairro Vila Mariana: 60\n",
      "Metragem máxima no bairro Vila Mariana: 650\n",
      "Mediana das metragens no bairro Vila Mariana: 235.5\n",
      "Média das metragens no bairro Vila Mariana: 233.6195652173913\n"
     ]
    }
   ],
   "source": [
    "metragem_min_vm = imoveis_vila_mariana[\"Metragem\"].min()\n",
    "metragem_max_vm = imoveis_vila_mariana[\"Metragem\"].max()\n",
    "mediana_metragem_vm = imoveis_vila_mariana[\"Metragem\"].median()\n",
    "media_metragem_vm = imoveis_vila_mariana[\"Metragem\"].mean()\n",
    "\n",
    "print(f\"Metragem mínima no bairro Vila Mariana: {metragem_min_vm}\")\n",
    "print(f\"Metragem máxima no bairro Vila Mariana: {metragem_max_vm}\")\n",
    "print(f\"Mediana das metragens no bairro Vila Mariana: {mediana_metragem_vm}\")\n",
    "print(f\"Média das metragens no bairro Vila Mariana: {media_metragem_vm}\")"
   ]
  },
  {
   "cell_type": "markdown",
   "metadata": {},
   "source": [
    "### Desafio 5"
   ]
  },
  {
   "cell_type": "code",
   "execution_count": 31,
   "metadata": {},
   "outputs": [
    {
     "name": "stdout",
     "output_type": "stream",
     "text": [
      "{'Vila Leopoldina', 'Jardim Ester Yolanda', 'Vila Polopoli', 'Vila Firmiano Pinto', 'Jardim Morumbi', 'Real Parque', 'Vila Macedópolis', 'Conjunto Habitacional Castro Alves', 'Parque da Mooca', 'Vila Ester (Zona Norte)', 'Lapa', 'Jardim Japão', 'Vila Matilde', 'Jardim Vila Mariana', 'Vila Nova Conceição', 'Jardim Ana Maria', 'Brooklin Novo', 'Cidade Mãe do Céu', 'Jardim Sul São Paulo', 'Fazenda Morumbi', 'Parque Savoy City', 'Jardim Bélgica', 'Vila Vasconcelos', 'Vila Talarico', 'Jardim Aeroporto', 'Vila Sabrina', 'Vila Virginia', 'Campo Belo', 'Alto da Boa Vista', 'Jardim Campo Grande', 'Vila Guedes', 'Vila Curuçá', 'Jardim da Glória', 'Santa Cecília', 'Jardim Palmares (Zona Sul)', 'Jardim das Bandeiras', 'Parque Novo Mundo', 'Sumaré', 'Chácara Tatuapé', 'Cerqueira César', 'Vila Vera', 'Jardim Paulista', 'Vila Brasílio Machado', 'Boaçava', 'Aricanduva', 'Jabaquara', 'Vila Ipojuca', 'Vila Sílvia', 'Cidade Centenário', 'Morumbi', 'Vila Aparecida', 'Jardim Cidade Pirituba', 'Vila Prudente', 'Jardim Cidália', 'Jardim Umuarama', 'Jardim Monte Alegre', 'Vila Ré', 'Vila Alpina', 'Jardim Ester', 'Vila Mazzei', 'Ferreira', 'Jardim Brasília (Zona Leste)', 'Vila das Belezas', 'Parque Casa de Pedra', 'Vila Lageado', 'Vila Sonia', 'Liberdade', 'Chácara Monte Alegre', 'Sítio do Mandaqui', 'Brooklin Paulista', 'Jardim Vivan', 'Vila Barbosa', 'Chácara Mafalda', 'Parque Santa Rita', 'Vila Ema', 'Parque Alves de Lima', 'Vila Araguaia', 'Engenheiro Goulart', 'Vila Nova Caledonia', 'Vila Gumercindo', 'Vila Ida', 'Vila Gomes', 'Vila Cruzeiro', 'Vila Regente Feijó', 'Parque Monteiro Soares', 'Vila Andrade', 'Vila Jacuí', 'Rio Pequeno', 'Indianópolis', 'Jardim Santo Elias', 'Jardim Cordeiro', 'Barra Funda', 'Conjunto Residencial Butantã', 'Vila Mira', 'Jardim Paulistano', 'Cidade São Mateus', 'Cidade Monções', 'Jardim Patente Novo', 'Vila Agueda', 'Vila Formosa', 'Vila Rui Barbosa', 'Vila Olímpia', 'Alto da Lapa', 'Interlagos', 'Cambuci', 'Sumarezinho', 'Jardim Rizzo', 'Vila Santa Maria', 'Jardim Petrópolis', 'Vila Carrão', 'Aclimação', 'Vila América', 'Jardim Taboão', 'Parque da Lapa', 'Vila Pedroso', 'Jardim Colombo', 'Vila Nivi', 'Vila Bancária Munhoz', 'Vila Madalena', 'Chácara Belenzinho', 'Vila Arriete', 'Vila Bertioga', 'Tremembé', 'Butantã', 'Vila Albertina', 'Jardim Ernestina', 'Cidade Ademar', 'Vila Morumbi', 'Jardim Leonor Mendes de Barros', 'Vila Romano', 'Vila São Silvestre', 'Paraíso', 'Jardim Petropolis', 'Vila Ayrosa', 'Jardim Jabaquara', 'Brás', 'Parque Guarani', 'Vila Romero', 'Jardim Santa Cruz (Campo Grande)', 'Vila Conde do Pinhal', 'Jardim Santo Amaro', 'Vila Prado', 'Jardim Vergueiro (Sacomã)', 'Vila Gomes Cardim', 'Parque Jabaquara', 'Vila Ponte Rasa', 'Jardim Santa Helena', \"Jardim Panorama D'Oeste\", 'Vila Anglo Brasileira', 'Vila Paulista', 'Vila Mafra', 'Chácara Flora', 'Jardim Itacolomi', 'Vila Londrina', 'Vila Elvira', 'Alto de Pinheiros', 'Jardim Tremembe', 'Jardim Cidalia', 'Jardim dos Estados', 'Perdizes', 'Jardim Vila Formosa', 'Bela Aliança', 'Vila Analia', 'Retiro Morumbi', 'Jardim Miriam', 'Chácara Califórnia', 'Cidade Antônio Estevão de Carvalho', 'Cidade Vargas', 'Jardim Sabará', 'Jardim Camargo Novo', 'Jardim Rincão', 'Vila Gea', 'Jardim Maria Duarte', 'Vila Alexandria', 'Vila Medeiros', 'Vila Adalgisa', 'Jardim Sílvia (Zona Oeste)', 'Vila Suzana', 'Vila Nova Pauliceia', 'Belenzinho', 'Tucuruvi', 'Cidade Domitila', \"Jardim D'Abril\", 'Vila Sônia', 'Vila Cardoso Franco', 'Jardim do Colégio (Zona Norte)', 'Jardim Maria Estela', 'Parque Edu Chaves', 'Nova Piraju', 'Paraíso do Morumbi', 'Mirandópolis', 'Siciliano', 'Vila Santa Clara', 'Conjunto Residencial Vista Verde', 'Vila Boaçava', 'Moema', 'Vila ESão Pauloerança', 'Vila Brasilina', 'Jardim Everest', 'Jardim Célia (Zona Sul)', 'Vila Buenos Aires', 'Vila Cordeiro', 'Vila Santana', 'Jardim Leonor', 'Brasilândia', 'Jardim Nice', 'Jardim Marajoara', 'Parque São Lucas', 'Paraisópolis', 'Vila Sao Paulo', 'Vila Bela', 'Vila São Francisco', 'Santo Amaro', 'Vila Dom Pedro I', 'Jardim Ampliação', 'Água Rasa', 'Vila Nair', 'Vila Darli', 'Jardim das Camélias', 'Vila Campo Grande', 'Vila Santos', 'Santana', 'Água Branca', 'Jardim Novo Mundo', 'Jardim Teresa', 'Parque Mandaqui', 'Vila Tramontano', 'Parque dos Príncipes', 'Parque Santo Antônio (Aricanduva)', 'Jardim Anália Franco', 'Vila Inah', 'Campininha', 'Vila Paulo Silas', 'Jardim Pirituba', 'Chora Menino', 'Vila Império', 'Jardim Amália', 'Vila Moinho Velho', 'Jardim das Acácias', 'Chácara Japonesa', 'Lapa de Baixo', 'Vila Isa', 'Vila Monumento', 'Vila Congonhas', 'Jardim Virginia Bianca', 'Parque da Vila Prudente', 'Parque Boturussu', 'Jardim Vila Carrão', 'Vila Nova Curuçá', 'Vila Constancia', 'Parque Maria Domitila', 'Jardim Prudência', 'Vila do Encontro', 'Vila Santo Estéfano', 'Jardim Bonfiglioli', 'Vila Maria Alta', 'Cidade Dutra', 'Sacomã', 'Vila Nova Caledônia', 'Vila Clementino', 'Jardim Castelo', 'Jardim Dom Bosco', 'Planalto Paulista', 'Vila Carmosina', 'Instituto de Previdência', 'Penha de França', 'Jardim Europa', 'Vila São Paulo', 'Vila Oratório', 'Jardim Danfer', 'Vila Caraguatá', 'Jardim Consórcio', 'Jardim das Vertentes', 'Vila Gertrudes', 'Jardim Planalto', 'Vila das Mercês', 'Parque Nações Unidas', 'Jardim Triana', 'Água Fria', 'Jardim Ponte Rasa', 'Jardim Londrina', 'Vila Marari', 'Vila Paulicéia', 'Jaraguá', 'Burgo Paulista', 'Jardim Textil', 'Jardim Guarau', 'Jardim Independência', 'Lauzane Paulista', 'Vila Salete', 'Vila Antonina', 'Jardim Celeste', 'Jardim Eliana', 'Vila Antônio', 'Vila Monte Alegre', 'Pacaembu', 'Tatuapé', 'Bosque da Saúde', 'Cupecê', 'Jardim Trussardi', 'Caxingui', 'Conjunto Residencial Morada do Sol', 'Consolação', 'Praia Paulistinha', 'Vila Anhangüera', 'Parque Continental', 'Vila Ivg', 'Vila Carbone', 'Pinheiros', 'Parque São Rafael', 'Vila Mascote', 'Itaim Bibi', 'Mooca', 'Capão Redondo', 'Vila Romana', 'Jardim Guanca', 'Jardim Coimbra', 'Vila Califórnia(Zona Sul)', 'Vila Progredior', 'Chácara Meyer', 'Jardim Hípico', 'Vila Palmeiras', 'City América', 'Ipiranga', 'Jardim Vitória Régia', 'Chácara Inglesa', 'Parque Colonial', 'Vila Marieta', 'Jardim Marília', 'Jaguaré', 'Cidade Jardim', 'Vila Cláudia', 'Parque Residencial Oratorio', 'Jardim Boa Vista (Zona Oeste)', 'Vila Gustavo', 'Jardim Franca', 'Vila Perus', 'Brooklin', 'Jardim Peri', 'Vila Bela Aliança', 'Jardim Satélite', 'Vila Inglesa', 'Saúde', 'Jardim Santa Maria', 'Jardim Brasil (Zona Sul)', 'Vila São José (Ipiranga)', 'Chácara Santo Antônio (Zona Sul)', 'Jardim Luzitânia', 'Parada XV de Novembro', 'Vila Comercial', 'Quinta da Paineira', 'Jardim Jussara', 'Jardim São Carlos (Zona Sul)', 'Vila Pompéia', 'Alto da Mooca', 'Jardim Analia Franco', 'Vila da Saúde', 'Vila Morse', 'Paineiras do Morumbi', 'Jardim Monte Kemel', 'Jardim Viana', 'Vila Tiradentes', 'Vila Antonieta', 'Água Funda', 'Jardim Guedala', 'Parque Peruche', 'Itaberaba', 'Vila Paiva', 'Vila Primavera', 'Jardim Floresta', 'Granja Julieta', 'Cidade Patriarca', 'Jardim da Saúde', 'Lar São Paulo', 'Vila Santa Catarina', 'Jardim Gonzaga', 'Super Quadra Morumbi', 'Jardim Heliomar', 'Jardim América', 'Itaquera', 'Parque São Domingos', 'Jardim Sarah', 'Vila Moraes', 'Jardim Patente', 'Vila Califórnia', 'Parque Imperial', 'Vila Lúcia', 'Vila Simone', 'Vila Guarani (Z Sul)', 'Vila Mariana', 'Jardim Morro Verde', 'Jardim Panorama', 'Higienópolis', 'Vila Canero'}\n"
     ]
    }
   ],
   "source": [
    "dados_sem_nome_da_rua = dados[dados[\"Rua\"].isna()]\n",
    "bairros_com_dados_sem_nome_da_rua = set(dados_sem_nome_da_rua[\"Bairro\"])\n",
    "print(bairros_com_dados_sem_nome_da_rua)"
   ]
  }
 ],
 "metadata": {
  "interpreter": {
   "hash": "2a2e630eb821aa401a67cb6a2b1e4dd562b859fd201ef4cb254f556b493bd57b"
  },
  "kernelspec": {
   "display_name": "Python 3.9.12 ('env': venv)",
   "language": "python",
   "name": "python3"
  },
  "language_info": {
   "codemirror_mode": {
    "name": "ipython",
    "version": 3
   },
   "file_extension": ".py",
   "mimetype": "text/x-python",
   "name": "python",
   "nbconvert_exporter": "python",
   "pygments_lexer": "ipython3",
   "version": "3.9.12"
  },
  "orig_nbformat": 4
 },
 "nbformat": 4,
 "nbformat_minor": 2
}
